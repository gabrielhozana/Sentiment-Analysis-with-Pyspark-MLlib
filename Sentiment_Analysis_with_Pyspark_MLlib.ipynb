{
  "nbformat": 4,
  "nbformat_minor": 0,
  "metadata": {
    "colab": {
      "name": "Sentiment Analysis with Pyspark MLlib.ipynb",
      "provenance": [],
      "mount_file_id": "19LP6UeQoG0csKW5GqywbKgA0tbo8zvj6",
      "authorship_tag": "ABX9TyM36OU4c3KlMGCVmCNZJKdG",
      "include_colab_link": true
    },
    "kernelspec": {
      "name": "python3",
      "display_name": "Python 3"
    },
    "language_info": {
      "name": "python"
    }
  },
  "cells": [
    {
      "cell_type": "markdown",
      "metadata": {
        "id": "view-in-github",
        "colab_type": "text"
      },
      "source": [
        "<a href=\"https://colab.research.google.com/github/gabrielhozana/Sentiment-Analysis-with-Pyspark-MLlib/blob/main/Sentiment_Analysis_with_Pyspark_MLlib.ipynb\" target=\"_parent\"><img src=\"https://colab.research.google.com/assets/colab-badge.svg\" alt=\"Open In Colab\"/></a>"
      ]
    },
    {
      "cell_type": "markdown",
      "metadata": {
        "id": "FqduzgKeXTaF"
      },
      "source": [
        "# Using Pandas to Visualization Dataset"
      ]
    },
    {
      "cell_type": "code",
      "metadata": {
        "id": "N89yaCfkRuQ_"
      },
      "source": [
        "import pandas as pd\n",
        "\n",
        "data = pd.read_csv(\"/content/drive/MyDrive/Train1.csv\")"
      ],
      "execution_count": 1,
      "outputs": []
    },
    {
      "cell_type": "code",
      "metadata": {
        "colab": {
          "base_uri": "https://localhost:8080/",
          "height": 206
        },
        "id": "ZL1YYXN3S8YS",
        "outputId": "1b380979-61d1-4125-c10d-b1425deca8ea"
      },
      "source": [
        "data.head()"
      ],
      "execution_count": 2,
      "outputs": [
        {
          "output_type": "execute_result",
          "data": {
            "text/html": [
              "<div>\n",
              "<style scoped>\n",
              "    .dataframe tbody tr th:only-of-type {\n",
              "        vertical-align: middle;\n",
              "    }\n",
              "\n",
              "    .dataframe tbody tr th {\n",
              "        vertical-align: top;\n",
              "    }\n",
              "\n",
              "    .dataframe thead th {\n",
              "        text-align: right;\n",
              "    }\n",
              "</style>\n",
              "<table border=\"1\" class=\"dataframe\">\n",
              "  <thead>\n",
              "    <tr style=\"text-align: right;\">\n",
              "      <th></th>\n",
              "      <th>label</th>\n",
              "      <th>reviewTitle</th>\n",
              "      <th>reviewText</th>\n",
              "    </tr>\n",
              "  </thead>\n",
              "  <tbody>\n",
              "    <tr>\n",
              "      <th>0</th>\n",
              "      <td>2</td>\n",
              "      <td>Stuning even for the non-gamer</td>\n",
              "      <td>NaN</td>\n",
              "    </tr>\n",
              "    <tr>\n",
              "      <th>1</th>\n",
              "      <td>2</td>\n",
              "      <td>The best soundtrack ever to anything.</td>\n",
              "      <td>I'm reading a lot of reviews saying that this ...</td>\n",
              "    </tr>\n",
              "    <tr>\n",
              "      <th>2</th>\n",
              "      <td>2</td>\n",
              "      <td>NaN</td>\n",
              "      <td>This soundtrack is my favorite music of all ti...</td>\n",
              "    </tr>\n",
              "    <tr>\n",
              "      <th>3</th>\n",
              "      <td>2</td>\n",
              "      <td>Excellent Soundtrack</td>\n",
              "      <td>NaN</td>\n",
              "    </tr>\n",
              "    <tr>\n",
              "      <th>4</th>\n",
              "      <td>2</td>\n",
              "      <td>NaN</td>\n",
              "      <td>If you've played the game, you know how divine...</td>\n",
              "    </tr>\n",
              "  </tbody>\n",
              "</table>\n",
              "</div>"
            ],
            "text/plain": [
              "   label  ...                                         reviewText\n",
              "0      2  ...                                                NaN\n",
              "1      2  ...  I'm reading a lot of reviews saying that this ...\n",
              "2      2  ...  This soundtrack is my favorite music of all ti...\n",
              "3      2  ...                                                NaN\n",
              "4      2  ...  If you've played the game, you know how divine...\n",
              "\n",
              "[5 rows x 3 columns]"
            ]
          },
          "metadata": {
            "tags": []
          },
          "execution_count": 2
        }
      ]
    },
    {
      "cell_type": "markdown",
      "metadata": {
        "id": "0Ep1LbG4Xz0G"
      },
      "source": [
        "# Pyspark is ready to use"
      ]
    },
    {
      "cell_type": "markdown",
      "metadata": {
        "id": "5257c5FTXhA8"
      },
      "source": [
        "# Debungging Small Dataset with null"
      ]
    },
    {
      "cell_type": "code",
      "metadata": {
        "id": "BSOVqTFrTANC",
        "colab": {
          "base_uri": "https://localhost:8080/"
        },
        "outputId": "82d0d2ed-2e0d-4045-fd41-7ceb7914d385"
      },
      "source": [
        "!pip install pyspark"
      ],
      "execution_count": 3,
      "outputs": [
        {
          "output_type": "stream",
          "text": [
            "Collecting pyspark\n",
            "\u001b[?25l  Downloading https://files.pythonhosted.org/packages/45/b0/9d6860891ab14a39d4bddf80ba26ce51c2f9dc4805e5c6978ac0472c120a/pyspark-3.1.1.tar.gz (212.3MB)\n",
            "\u001b[K     |████████████████████████████████| 212.3MB 71kB/s \n",
            "\u001b[?25hCollecting py4j==0.10.9\n",
            "\u001b[?25l  Downloading https://files.pythonhosted.org/packages/9e/b6/6a4fb90cd235dc8e265a6a2067f2a2c99f0d91787f06aca4bcf7c23f3f80/py4j-0.10.9-py2.py3-none-any.whl (198kB)\n",
            "\u001b[K     |████████████████████████████████| 204kB 38.2MB/s \n",
            "\u001b[?25hBuilding wheels for collected packages: pyspark\n",
            "  Building wheel for pyspark (setup.py) ... \u001b[?25l\u001b[?25hdone\n",
            "  Created wheel for pyspark: filename=pyspark-3.1.1-py2.py3-none-any.whl size=212767604 sha256=8a189405468982b488cf3cba4b8be1be9ef0edc35132ea4dc0ccc9877c081afa\n",
            "  Stored in directory: /root/.cache/pip/wheels/0b/90/c0/01de724414ef122bd05f056541fb6a0ecf47c7ca655f8b3c0f\n",
            "Successfully built pyspark\n",
            "Installing collected packages: py4j, pyspark\n",
            "Successfully installed py4j-0.10.9 pyspark-3.1.1\n"
          ],
          "name": "stdout"
        }
      ]
    },
    {
      "cell_type": "code",
      "metadata": {
        "colab": {
          "base_uri": "https://localhost:8080/"
        },
        "id": "s9B-WgjZULNy",
        "outputId": "87d4269e-ad74-44e1-ba16-c238e2f563ee"
      },
      "source": [
        "from pyspark.sql import Row\n",
        "from pyspark.ml.feature import Tokenizer, StopWordsRemover, CountVectorizer, IDF\n",
        "from pyspark.context import SparkContext\n",
        "from pyspark.sql.session import SparkSession\n",
        "sc = SparkContext.getOrCreate()\n",
        "spark = SparkSession(sc)\n",
        "# documents = sc.dataframe(\"/content/drive/MyDrive/train.csv\").map(lambda line: line.split(\" \"))\n",
        "# save data https://spark.apache.org/docs/latest/sql-data-sources-load-save-functions.html\n",
        "df = spark.read.load(\"/content/drive/MyDrive/Train1.csv\",\n",
        "                     format=\"csv\", sep=\",\", inferSchema=\"true\", header=\"true\")\n",
        "df.show()"
      ],
      "execution_count": 4,
      "outputs": [
        {
          "output_type": "stream",
          "text": [
            "+-----+--------------------+--------------------+\n",
            "|label|         reviewTitle|          reviewText|\n",
            "+-----+--------------------+--------------------+\n",
            "|    2|Stuning even for ...|                null|\n",
            "|    2|The best soundtra...|I'm reading a lot...|\n",
            "|    2|                null|\"This soundtrack ...|\n",
            "|    2|Excellent Soundtrack|                null|\n",
            "|    2|                null|If you've played ...|\n",
            "|    2|an absolute maste...|                null|\n",
            "|    1|        Buyer beware|                null|\n",
            "|    2|      Glorious story|I loved Whisper o...|\n",
            "|    2|    A FIVE STAR BOOK|I just finished r...|\n",
            "|    2|Whispers of the W...|This was a easy t...|\n",
            "|    1|          The Worst!|A complete waste ...|\n",
            "+-----+--------------------+--------------------+\n",
            "\n"
          ],
          "name": "stdout"
        }
      ]
    },
    {
      "cell_type": "code",
      "metadata": {
        "colab": {
          "base_uri": "https://localhost:8080/"
        },
        "id": "98CbfDItUWpr",
        "outputId": "1b883d76-eb10-42a4-b0c7-9afa09bd2b80"
      },
      "source": [
        "from pyspark.sql.functions import isnan, when, count, col\n",
        "df.select([count(when(isnan(c) | col(c).isNull(), c)).alias(c) for c in df.columns]).show()"
      ],
      "execution_count": 5,
      "outputs": [
        {
          "output_type": "stream",
          "text": [
            "+-----+-----------+----------+\n",
            "|label|reviewTitle|reviewText|\n",
            "+-----+-----------+----------+\n",
            "|    0|          2|         4|\n",
            "+-----+-----------+----------+\n",
            "\n"
          ],
          "name": "stdout"
        }
      ]
    },
    {
      "cell_type": "code",
      "metadata": {
        "colab": {
          "base_uri": "https://localhost:8080/"
        },
        "id": "VjgGlu2pUpxq",
        "outputId": "df6081a5-7acf-4058-e6d4-5294c133ca4a"
      },
      "source": [
        "df.na.drop().show()"
      ],
      "execution_count": 6,
      "outputs": [
        {
          "output_type": "stream",
          "text": [
            "+-----+--------------------+--------------------+\n",
            "|label|         reviewTitle|          reviewText|\n",
            "+-----+--------------------+--------------------+\n",
            "|    2|The best soundtra...|I'm reading a lot...|\n",
            "|    2|      Glorious story|I loved Whisper o...|\n",
            "|    2|    A FIVE STAR BOOK|I just finished r...|\n",
            "|    2|Whispers of the W...|This was a easy t...|\n",
            "|    1|          The Worst!|A complete waste ...|\n",
            "+-----+--------------------+--------------------+\n",
            "\n"
          ],
          "name": "stdout"
        }
      ]
    },
    {
      "cell_type": "code",
      "metadata": {
        "colab": {
          "base_uri": "https://localhost:8080/"
        },
        "id": "3u5atFUoUsyx",
        "outputId": "da706a08-5bd5-4bf6-cb1d-cf9edea2f202"
      },
      "source": [
        "df.show()"
      ],
      "execution_count": 7,
      "outputs": [
        {
          "output_type": "stream",
          "text": [
            "+-----+--------------------+--------------------+\n",
            "|label|         reviewTitle|          reviewText|\n",
            "+-----+--------------------+--------------------+\n",
            "|    2|Stuning even for ...|                null|\n",
            "|    2|The best soundtra...|I'm reading a lot...|\n",
            "|    2|                null|\"This soundtrack ...|\n",
            "|    2|Excellent Soundtrack|                null|\n",
            "|    2|                null|If you've played ...|\n",
            "|    2|an absolute maste...|                null|\n",
            "|    1|        Buyer beware|                null|\n",
            "|    2|      Glorious story|I loved Whisper o...|\n",
            "|    2|    A FIVE STAR BOOK|I just finished r...|\n",
            "|    2|Whispers of the W...|This was a easy t...|\n",
            "|    1|          The Worst!|A complete waste ...|\n",
            "+-----+--------------------+--------------------+\n",
            "\n"
          ],
          "name": "stdout"
        }
      ]
    },
    {
      "cell_type": "code",
      "metadata": {
        "colab": {
          "base_uri": "https://localhost:8080/"
        },
        "id": "0XRgoUmjWZza",
        "outputId": "2bedbd34-5498-411e-9ea2-f7fa0e8dbee1"
      },
      "source": [
        "df2 = df.dropna(subset=('label','reviewTitle','reviewText'))\n",
        "\n",
        "df2.show()"
      ],
      "execution_count": 8,
      "outputs": [
        {
          "output_type": "stream",
          "text": [
            "+-----+--------------------+--------------------+\n",
            "|label|         reviewTitle|          reviewText|\n",
            "+-----+--------------------+--------------------+\n",
            "|    2|The best soundtra...|I'm reading a lot...|\n",
            "|    2|      Glorious story|I loved Whisper o...|\n",
            "|    2|    A FIVE STAR BOOK|I just finished r...|\n",
            "|    2|Whispers of the W...|This was a easy t...|\n",
            "|    1|          The Worst!|A complete waste ...|\n",
            "+-----+--------------------+--------------------+\n",
            "\n"
          ],
          "name": "stdout"
        }
      ]
    },
    {
      "cell_type": "code",
      "metadata": {
        "id": "DPoIBZ1RWxzl"
      },
      "source": [
        "def tfIdf(df):\n",
        "    \"\"\" This fucntion takes the text data and converts it into a term frequency-Inverse Document Frequency vector\n",
        "\n",
        "    parameter: \n",
        "    returns: dataframe with tf-idf vectors\n",
        "\n",
        "    \"\"\"\n",
        "    # Carrying out the Tokenization of the text documents (splitting into words)\n",
        "\n",
        "    tokenizer = Tokenizer(inputCol=\"reviewText\", outputCol=\"tokenised_text\")\n",
        "    tokensDf = tokenizer.transform(df)\n",
        "\n",
        "    # Carrying out the StopWords Removal for TF-IDF\n",
        "    stopwordsremover=StopWordsRemover(inputCol='tokenised_text',outputCol='words')\n",
        "    swremovedDf= stopwordsremover.transform(tokensDf)\n",
        "\n",
        "    # Creating Term Frequency Vector for each word\n",
        "    cv=CountVectorizer(inputCol=\"words\", outputCol=\"tf_features\", vocabSize=3, minDF=2.0)\n",
        "    cvModel=cv.fit(swremovedDf)\n",
        "    tfDf=cvModel.transform(swremovedDf)\n",
        "\n",
        "    # Carrying out Inverse Document Frequency on the TF data\n",
        "    idf=IDF(inputCol=\"tf_features\", outputCol=\"tf-idf_features\")\n",
        "    idfModel = idf.fit(tfDf)\n",
        "    tfidfDf = idfModel.transform(tfDf)\n",
        "\n",
        "    tfidfDf.cache().count()\n",
        "\n",
        "    return tfidfDf\n",
        "\n",
        "\n",
        "tfidfDf=tfIdf(df2)"
      ],
      "execution_count": 9,
      "outputs": []
    },
    {
      "cell_type": "code",
      "metadata": {
        "colab": {
          "base_uri": "https://localhost:8080/"
        },
        "id": "lnrU_DoeXL1d",
        "outputId": "7665128e-dee2-4294-9b9a-704f1a91aea9"
      },
      "source": [
        "tfidfDf.show()"
      ],
      "execution_count": 10,
      "outputs": [
        {
          "output_type": "stream",
          "text": [
            "+-----+--------------------+--------------------+--------------------+--------------------+--------------------+--------------------+\n",
            "|label|         reviewTitle|          reviewText|      tokenised_text|               words|         tf_features|     tf-idf_features|\n",
            "+-----+--------------------+--------------------+--------------------+--------------------+--------------------+--------------------+\n",
            "|    2|The best soundtra...|I'm reading a lot...|[i'm, reading, a,...|[reading, lot, re...|       (3,[2],[1.0])|(3,[2],[0.1823215...|\n",
            "|    2|      Glorious story|I loved Whisper o...|[i, loved, whispe...|[loved, whisper, ...|(3,[0,1,2],[3.0,1...|(3,[0,1,2],[1.216...|\n",
            "|    2|    A FIVE STAR BOOK|I just finished r...|[i, just, finishe...|[finished, readin...| (3,[0,2],[1.0,1.0])|(3,[0,2],[0.40546...|\n",
            "|    2|Whispers of the W...|This was a easy t...|[this, was, a, ea...|[easy, read, book...|(3,[0,1,2],[2.0,4...|(3,[0,1,2],[0.810...|\n",
            "|    1|          The Worst!|A complete waste ...|[a, complete, was...|[complete, waste,...|           (3,[],[])|           (3,[],[])|\n",
            "+-----+--------------------+--------------------+--------------------+--------------------+--------------------+--------------------+\n",
            "\n"
          ],
          "name": "stdout"
        }
      ]
    },
    {
      "cell_type": "markdown",
      "metadata": {
        "id": "F6lHFntxXrSp"
      },
      "source": [
        "# Using Pure Dataset "
      ]
    },
    {
      "cell_type": "code",
      "metadata": {
        "colab": {
          "base_uri": "https://localhost:8080/"
        },
        "id": "6D-seOnOXOrL",
        "outputId": "e13bf456-2329-47eb-d30a-4ff8f500f8e4"
      },
      "source": [
        "df3 = spark.read.load(\"/content/drive/MyDrive/train.csv\",\n",
        "                     format=\"csv\", sep=\",\", inferSchema=\"true\", header=\"true\")\n",
        "df3.show()"
      ],
      "execution_count": 11,
      "outputs": [
        {
          "output_type": "stream",
          "text": [
            "+-----+--------------------+--------------------+\n",
            "|label|         reviewTitle|          reviewText|\n",
            "+-----+--------------------+--------------------+\n",
            "|    2|Stuning even for ...|This sound track ...|\n",
            "|    2|The best soundtra...|I'm reading a lot...|\n",
            "|    2|            Amazing!|\"This soundtrack ...|\n",
            "|    2|Excellent Soundtrack|I truly like this...|\n",
            "|    2|Remember, Pull Yo...|If you've played ...|\n",
            "|    2|an absolute maste...|I am quite sure a...|\n",
            "|    1|        Buyer beware|\"This is a self-p...|\n",
            "|    2|      Glorious story|I loved Whisper o...|\n",
            "|    2|    A FIVE STAR BOOK|I just finished r...|\n",
            "|    2|Whispers of the W...|This was a easy t...|\n",
            "|    1|          The Worst!|A complete waste ...|\n",
            "|    2|          Great book|This was a great ...|\n",
            "|    2|          Great Read|I thought this bo...|\n",
            "|    1|           Oh please|I guess you have ...|\n",
            "|    1|Awful beyond belief!|\"I feel I have to...|\n",
            "|    1|Don't try to fool...|It's glaringly ob...|\n",
            "|    2|A romantic zen ba...|\"When you hear fo...|\n",
            "|    2|Fashionable Compr...|After I had a DVT...|\n",
            "|    2|Jobst UltraSheer ...|Excellent product...|\n",
            "|    1|sizes recomended ...|sizes are much sm...|\n",
            "+-----+--------------------+--------------------+\n",
            "only showing top 20 rows\n",
            "\n"
          ],
          "name": "stdout"
        }
      ]
    },
    {
      "cell_type": "code",
      "metadata": {
        "colab": {
          "base_uri": "https://localhost:8080/"
        },
        "id": "CBXC95uSYNXZ",
        "outputId": "3d252957-43ba-4b7b-9925-72d79ff4df42"
      },
      "source": [
        "df3.select([count(when(isnan(c) | col(c).isNull(), c)).alias(c) for c in df.columns]).show()"
      ],
      "execution_count": 12,
      "outputs": [
        {
          "output_type": "stream",
          "text": [
            "+-----+-----------+----------+\n",
            "|label|reviewTitle|reviewText|\n",
            "+-----+-----------+----------+\n",
            "|    0|         50|        13|\n",
            "+-----+-----------+----------+\n",
            "\n"
          ],
          "name": "stdout"
        }
      ]
    },
    {
      "cell_type": "code",
      "metadata": {
        "colab": {
          "base_uri": "https://localhost:8080/"
        },
        "id": "c0lTFhyzYUCn",
        "outputId": "8a39286b-1192-431e-f9b2-73f62658a9bb"
      },
      "source": [
        "df4 = df3.dropna(subset=('label','reviewTitle','reviewText'))\n",
        "df4.show()"
      ],
      "execution_count": 13,
      "outputs": [
        {
          "output_type": "stream",
          "text": [
            "+-----+--------------------+--------------------+\n",
            "|label|         reviewTitle|          reviewText|\n",
            "+-----+--------------------+--------------------+\n",
            "|    2|Stuning even for ...|This sound track ...|\n",
            "|    2|The best soundtra...|I'm reading a lot...|\n",
            "|    2|            Amazing!|\"This soundtrack ...|\n",
            "|    2|Excellent Soundtrack|I truly like this...|\n",
            "|    2|Remember, Pull Yo...|If you've played ...|\n",
            "|    2|an absolute maste...|I am quite sure a...|\n",
            "|    1|        Buyer beware|\"This is a self-p...|\n",
            "|    2|      Glorious story|I loved Whisper o...|\n",
            "|    2|    A FIVE STAR BOOK|I just finished r...|\n",
            "|    2|Whispers of the W...|This was a easy t...|\n",
            "|    1|          The Worst!|A complete waste ...|\n",
            "|    2|          Great book|This was a great ...|\n",
            "|    2|          Great Read|I thought this bo...|\n",
            "|    1|           Oh please|I guess you have ...|\n",
            "|    1|Awful beyond belief!|\"I feel I have to...|\n",
            "|    1|Don't try to fool...|It's glaringly ob...|\n",
            "|    2|A romantic zen ba...|\"When you hear fo...|\n",
            "|    2|Fashionable Compr...|After I had a DVT...|\n",
            "|    2|Jobst UltraSheer ...|Excellent product...|\n",
            "|    1|sizes recomended ...|sizes are much sm...|\n",
            "+-----+--------------------+--------------------+\n",
            "only showing top 20 rows\n",
            "\n"
          ],
          "name": "stdout"
        }
      ]
    },
    {
      "cell_type": "code",
      "metadata": {
        "colab": {
          "base_uri": "https://localhost:8080/"
        },
        "id": "vwyJeMDCcyrY",
        "outputId": "24afa84c-49bf-4cfa-9cc8-fb7d500036e6"
      },
      "source": [
        "df4.select([count(when(isnan(c) | col(c).isNull(), c)).alias(c) for c in df.columns]).show()"
      ],
      "execution_count": 14,
      "outputs": [
        {
          "output_type": "stream",
          "text": [
            "+-----+-----------+----------+\n",
            "|label|reviewTitle|reviewText|\n",
            "+-----+-----------+----------+\n",
            "|    0|          2|         0|\n",
            "+-----+-----------+----------+\n",
            "\n"
          ],
          "name": "stdout"
        }
      ]
    },
    {
      "cell_type": "code",
      "metadata": {
        "id": "Cu91J5CAY2zp"
      },
      "source": [
        "tfidfDf2=tfIdf(df4)\n",
        "tfidfDf2.show()"
      ],
      "execution_count": null,
      "outputs": []
    },
    {
      "cell_type": "code",
      "metadata": {
        "id": "t6m6y4iNY7M-"
      },
      "source": [
        ""
      ],
      "execution_count": null,
      "outputs": []
    }
  ]
}